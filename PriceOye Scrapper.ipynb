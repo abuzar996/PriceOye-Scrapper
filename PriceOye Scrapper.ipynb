{
 "cells": [
  {
   "cell_type": "code",
   "execution_count": 2,
   "id": "0c66f01f",
   "metadata": {},
   "outputs": [],
   "source": [
    "from bs4 import BeautifulSoup\n",
    "import requests"
   ]
  },
  {
   "cell_type": "code",
   "execution_count": 3,
   "id": "4e137d09",
   "metadata": {},
   "outputs": [],
   "source": [
    "data=requests.get('https://priceoye.pk/store').text\n",
    "soup=BeautifulSoup(data,'lxml')"
   ]
  },
  {
   "cell_type": "code",
   "execution_count": 4,
   "id": "2c8f04ec",
   "metadata": {},
   "outputs": [],
   "source": [
    "MobilesData=soup.find_all('div',class_='plist-sec')"
   ]
  },
  {
   "cell_type": "code",
   "execution_count": 5,
   "id": "570d5314",
   "metadata": {},
   "outputs": [],
   "source": [
    "for MobileData in MobilesData:\n",
    "    ProductsData=MobileData.find_all('div',class_='productBox') "
   ]
  },
  {
   "cell_type": "code",
   "execution_count": 6,
   "id": "42ac7d90",
   "metadata": {},
   "outputs": [],
   "source": [
    "Link=[0]*len(ProductsData)\n",
    "for i,ProductData in enumerate(ProductsData):\n",
    "    ProductLinks=ProductData.a['href']\n",
    "    Link[i] =ProductLinks"
   ]
  },
  {
   "cell_type": "code",
   "execution_count": 7,
   "id": "62478d79",
   "metadata": {},
   "outputs": [
    {
     "data": {
      "text/plain": [
       "['https://priceoye.pk/mobiles/samsung/samsung-galaxy-z-fold-3',\n",
       " 'https://priceoye.pk/mobiles/vivo/vivo-y53s',\n",
       " 'https://priceoye.pk/mobiles/infinix/infinix-note-10',\n",
       " 'https://priceoye.pk/mobiles/vivo/vivo-v21',\n",
       " 'https://priceoye.pk/mobiles/nokia/nokia-c20',\n",
       " 'https://priceoye.pk/mobiles/realme/realme-8-pro',\n",
       " 'https://priceoye.pk/mobiles/xiaomi/xiaomi-poco-f3',\n",
       " 'https://priceoye.pk/mobiles/xiaomi/xiaomi-redmi-note-10-5g',\n",
       " 'https://priceoye.pk/mobiles/realme/realme-c25',\n",
       " 'https://priceoye.pk/mobiles/oneplus/oneplus-9',\n",
       " 'https://priceoye.pk/mobiles/xiaomi/xiaomi-redmi-note-10',\n",
       " 'https://priceoye.pk/mobiles/realme/realme-8',\n",
       " 'https://priceoye.pk/mobiles/xiaomi/xiaomi-redmi-note-10s',\n",
       " 'https://priceoye.pk/mobiles/vivo/vivo-x60-pro',\n",
       " 'https://priceoye.pk/mobiles/xiaomi/xiaomi-mi-11-lite',\n",
       " 'https://priceoye.pk/mobiles/oppo/oppo-f19-pro',\n",
       " 'https://priceoye.pk/mobiles/nokia/nokia-1-4',\n",
       " 'https://priceoye.pk/mobiles/samsung/samsung-galaxy-a02',\n",
       " 'https://priceoye.pk/mobiles/vivo/vivo-y31',\n",
       " 'https://priceoye.pk/mobiles/oppo/oppo-reno-5-pro-5g',\n",
       " 'https://priceoye.pk/mobiles/oppo/oppo-a15s',\n",
       " 'https://priceoye.pk/mobiles/nokia/nokia-5-4',\n",
       " 'https://priceoye.pk/mobiles/oppo/oppo-reno-5-5g',\n",
       " 'https://priceoye.pk/mobiles/xiaomi/xiaomi-poco-m3',\n",
       " 'https://priceoye.pk/mobiles/nokia/nokia-6300-4g',\n",
       " 'https://priceoye.pk/mobiles/nokia/nokia-8000-4g',\n",
       " 'https://priceoye.pk/mobiles/apple/apple-iphone-12-mini',\n",
       " 'https://priceoye.pk/mobiles/apple/apple-iphone-12-pro',\n",
       " 'https://priceoye.pk/mobiles/vivo/vivo-y20s',\n",
       " 'https://priceoye.pk/mobiles/huawei/huawei-y7a',\n",
       " 'https://priceoye.pk/mobiles/oppo/oppo-a15',\n",
       " 'https://priceoye.pk/mobiles/oneplus/oneplus-8t',\n",
       " 'https://priceoye.pk/mobiles/infinix/infinix-note-8',\n",
       " 'https://priceoye.pk/mobiles/infinix/infinix-note-8i',\n",
       " 'https://priceoye.pk/mobiles/tecno/tecno-camon-16',\n",
       " 'https://priceoye.pk/mobiles/apple/apple-iphone-12']"
      ]
     },
     "execution_count": 7,
     "metadata": {},
     "output_type": "execute_result"
    }
   ],
   "source": [
    "Link"
   ]
  },
  {
   "cell_type": "code",
   "execution_count": 8,
   "id": "401595cc",
   "metadata": {},
   "outputs": [],
   "source": [
    "data=requests.get(Link[0]).text\n",
    "soup=BeautifulSoup(data,'lxml')\n"
   ]
  },
  {
   "cell_type": "code",
   "execution_count": 9,
   "id": "b864744f",
   "metadata": {},
   "outputs": [],
   "source": [
    "MobileSpecs=soup.find('div',class_='row card')\n"
   ]
  },
  {
   "cell_type": "code",
   "execution_count": 10,
   "id": "a98f8fa7",
   "metadata": {},
   "outputs": [],
   "source": [
    "MobileColorsList=MobileSpecs.find_all('ul',class_='colors')"
   ]
  },
  {
   "cell_type": "code",
   "execution_count": 11,
   "id": "aaad459b",
   "metadata": {},
   "outputs": [
    {
     "data": {
      "text/plain": [
       "[<ul class=\"colors\">\n",
       " <li class=\"\" on=\"tap:AMP.setState({\n",
       "                                                     product: {\n",
       "                                                     selectedColor: 'phantom_black',\n",
       "                                                     selectedWaitList: product.dataPrices['phantom_black'][product.selectedSize][product.selectedIndex].wait_list, selectedAvilIndex: product.dataPrices['phantom_black'][product.selectedSize][product.selectedIndex].product_availability_index,\n",
       "                                                     selectedDataprice: product.dataPrices['phantom_black'][product.selectedSize]\n",
       "                                                     },\n",
       "                                                     selectedSlide: 0\n",
       "                                                     })\">\n",
       " <a active=\"\" class=\"ga-dataset MYcolors phantom_black\" data-tooltip-class=\"hover-tooltip tooltip-text\" data-tooltip-template=\"phantom_black\" data-tooltips=\"\" data-vars-category-id=\"1\" data-vars-category-name=\"Mobiles\" data-vars-location=\"flavorColor\" data-vars-page=\"productpage\" data-vars-value=\"phantom_black\" mycolors=\"\" phantom_black=\"\" rel=\"nofollow\">\n",
       " <div active=\"\" class=\"title product-color-image-thumbnail phantom_black\" phantom_black=\"\" product-color-image-thumbnail=\"\">\n",
       " <div class=\"product-color-image\">\n",
       " <amp-img alt=\"Samsung Galaxy Z Fold 3 5G\" class=\"product-detail-image\" height=\"50\" layout=\"fixed\" src=\"https://images.priceoye.pk/samsung-galaxy-z-fold-3-pakistan-priceoye-do0r6-100x100.webp\" width=\"50\"><amp-img alt=\"Samsung Galaxy Z Fold 3 5G\" class=\"product-detail-image\" fallback=\"\" height=\"50\" layout=\"fixed\" src=\"https://images.priceoye.pk/samsung-galaxy-z-fold-3-pakistan-priceoye-do0r6-100x100.jpg\" width=\"50\"></amp-img><amp-img alt=\"Samsung Galaxy Z Fold 3 5G\" layout=\"fill\" placeholder=\"\" src=\"https://static.priceoye.pk/images/placeholder-product-mobile.jpg\">\n",
       " <noscript>\n",
       " <img alt=\"Samsung Galaxy Z Fold 3 5G\" src=\"https://static.priceoye.pk/images/placeholder-product-mobile.jpg\"/>\n",
       " </noscript>\n",
       " </amp-img></amp-img> </div>\n",
       " <div class=\"color-name\">\n",
       " <span>Phantom Black</span>\n",
       " </div>\n",
       " </div>\n",
       " <!--  <div title=\"\"></div> -->\n",
       " </a>\n",
       " </li>\n",
       " <li class=\"\" on=\"tap:AMP.setState({\n",
       "                                                     product: {\n",
       "                                                     selectedColor: 'phantom_green',\n",
       "                                                     selectedWaitList: product.dataPrices['phantom_green'][product.selectedSize][product.selectedIndex].wait_list, selectedAvilIndex: product.dataPrices['phantom_green'][product.selectedSize][product.selectedIndex].product_availability_index,\n",
       "                                                     selectedDataprice: product.dataPrices['phantom_green'][product.selectedSize]\n",
       "                                                     },\n",
       "                                                     selectedSlide: 0\n",
       "                                                     })\">\n",
       " <a active=\"\" class=\"ga-dataset MYcolors phantom_green\" data-tooltip-class=\"hover-tooltip tooltip-text\" data-tooltip-template=\"phantom_green\" data-tooltips=\"\" data-vars-category-id=\"1\" data-vars-category-name=\"Mobiles\" data-vars-location=\"flavorColor\" data-vars-page=\"productpage\" data-vars-value=\"phantom_green\" mycolors=\"\" phantom_green=\"\" rel=\"nofollow\">\n",
       " <div active=\"\" class=\"title product-color-image-thumbnail phantom_green\" phantom_green=\"\" product-color-image-thumbnail=\"\">\n",
       " <div class=\"product-color-image\">\n",
       " <amp-img alt=\"Samsung Galaxy Z Fold 3 5G\" class=\"product-detail-image\" height=\"50\" layout=\"fixed\" src=\"https://images.priceoye.pk/samsung-galaxy-z-fold-3-pakistan-priceoye-hdajq-100x100.webp\" width=\"50\"><amp-img alt=\"Samsung Galaxy Z Fold 3 5G\" class=\"product-detail-image\" fallback=\"\" height=\"50\" layout=\"fixed\" src=\"https://images.priceoye.pk/samsung-galaxy-z-fold-3-pakistan-priceoye-hdajq-100x100.jpg\" width=\"50\"></amp-img><amp-img alt=\"Samsung Galaxy Z Fold 3 5G\" layout=\"fill\" placeholder=\"\" src=\"https://static.priceoye.pk/images/placeholder-product-mobile.jpg\">\n",
       " <noscript>\n",
       " <img alt=\"Samsung Galaxy Z Fold 3 5G\" src=\"https://static.priceoye.pk/images/placeholder-product-mobile.jpg\"/>\n",
       " </noscript>\n",
       " </amp-img></amp-img> </div>\n",
       " <div class=\"color-name\">\n",
       " <span>Phantom Green</span>\n",
       " </div>\n",
       " </div>\n",
       " <!--  <div title=\"\"></div> -->\n",
       " </a>\n",
       " </li>\n",
       " <li class=\"active\" on=\"tap:AMP.setState({\n",
       "                                                     product: {\n",
       "                                                     selectedColor: 'phantom_silver',\n",
       "                                                     selectedWaitList: product.dataPrices['phantom_silver'][product.selectedSize][product.selectedIndex].wait_list, selectedAvilIndex: product.dataPrices['phantom_silver'][product.selectedSize][product.selectedIndex].product_availability_index,\n",
       "                                                     selectedDataprice: product.dataPrices['phantom_silver'][product.selectedSize]\n",
       "                                                     },\n",
       "                                                     selectedSlide: 0\n",
       "                                                     })\">\n",
       " <a active=\"\" class=\"ga-dataset MYcolors phantom_silver active\" data-tooltip-class=\"hover-tooltip tooltip-text\" data-tooltip-template=\"phantom_silver\" data-tooltips=\"\" data-vars-category-id=\"1\" data-vars-category-name=\"Mobiles\" data-vars-location=\"flavorColor\" data-vars-page=\"productpage\" data-vars-value=\"phantom_silver\" mycolors=\"\" phantom_silver=\"\" rel=\"nofollow\">\n",
       " <div active=\"\" class=\"title product-color-image-thumbnail phantom_silver active\" phantom_silver=\"\" product-color-image-thumbnail=\"\">\n",
       " <div class=\"product-color-image\">\n",
       " <amp-img alt=\"Samsung Galaxy Z Fold 3 5G\" class=\"product-detail-image\" height=\"50\" layout=\"fixed\" src=\"https://images.priceoye.pk/samsung-galaxy-z-fold-3-pakistan-priceoye-pxmmy-100x100.webp\" width=\"50\"><amp-img alt=\"Samsung Galaxy Z Fold 3 5G\" class=\"product-detail-image\" fallback=\"\" height=\"50\" layout=\"fixed\" src=\"https://images.priceoye.pk/samsung-galaxy-z-fold-3-pakistan-priceoye-pxmmy-100x100.jpg\" width=\"50\"></amp-img><amp-img alt=\"Samsung Galaxy Z Fold 3 5G\" layout=\"fill\" placeholder=\"\" src=\"https://static.priceoye.pk/images/placeholder-product-mobile.jpg\">\n",
       " <noscript>\n",
       " <img alt=\"Samsung Galaxy Z Fold 3 5G\" src=\"https://static.priceoye.pk/images/placeholder-product-mobile.jpg\"/>\n",
       " </noscript>\n",
       " </amp-img></amp-img> </div>\n",
       " <div class=\"color-name\">\n",
       " <span>Phantom Silver</span>\n",
       " </div>\n",
       " </div>\n",
       " <!--  <div title=\"\"></div> -->\n",
       " </a>\n",
       " </li>\n",
       " </ul>]"
      ]
     },
     "execution_count": 11,
     "metadata": {},
     "output_type": "execute_result"
    }
   ],
   "source": [
    "MobileColorsList"
   ]
  },
  {
   "cell_type": "code",
   "execution_count": 12,
   "id": "13b4c6d7",
   "metadata": {},
   "outputs": [],
   "source": [
    "for MobileColorList in MobileColorsList:\n",
    "    MobileColors=MobileColorList.find_all('div',class_='color-name')"
   ]
  },
  {
   "cell_type": "code",
   "execution_count": 13,
   "id": "82dba1df",
   "metadata": {},
   "outputs": [
    {
     "data": {
      "text/plain": [
       "3"
      ]
     },
     "execution_count": 13,
     "metadata": {},
     "output_type": "execute_result"
    }
   ],
   "source": [
    "len(MobileColors)"
   ]
  },
  {
   "cell_type": "code",
   "execution_count": 14,
   "id": "f418ea02",
   "metadata": {},
   "outputs": [
    {
     "name": "stdout",
     "output_type": "stream",
     "text": [
      "[<span>Phantom Black</span>]\n",
      "[<span>Phantom Green</span>]\n",
      "[<span>Phantom Silver</span>]\n"
     ]
    }
   ],
   "source": [
    "for Color in MobileColors:\n",
    "    Colors=Color.find_all('span',class_='')\n",
    "    print (Colors)"
   ]
  },
  {
   "cell_type": "code",
   "execution_count": 16,
   "id": "d6acc061",
   "metadata": {},
   "outputs": [
    {
     "data": {
      "text/plain": [
       "[<span>Phantom Silver</span>]"
      ]
     },
     "execution_count": 16,
     "metadata": {},
     "output_type": "execute_result"
    }
   ],
   "source": [
    "Colors\n"
   ]
  },
  {
   "cell_type": "code",
   "execution_count": null,
   "id": "e2cdcf17",
   "metadata": {},
   "outputs": [],
   "source": []
  }
 ],
 "metadata": {
  "kernelspec": {
   "display_name": "Python 3",
   "language": "python",
   "name": "python3"
  },
  "language_info": {
   "codemirror_mode": {
    "name": "ipython",
    "version": 3
   },
   "file_extension": ".py",
   "mimetype": "text/x-python",
   "name": "python",
   "nbconvert_exporter": "python",
   "pygments_lexer": "ipython3",
   "version": "3.8.8"
  }
 },
 "nbformat": 4,
 "nbformat_minor": 5
}
